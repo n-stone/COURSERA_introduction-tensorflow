{
  "nbformat": 4,
  "nbformat_minor": 0,
  "metadata": {
    "colab": {
      "provenance": []
    },
    "kernelspec": {
      "name": "python3",
      "display_name": "Python 3"
    },
    "language_info": {
      "name": "python"
    },
    "accelerator": "GPU",
    "gpuClass": "standard"
  },
  "cells": [
    {
      "cell_type": "code",
      "execution_count": 3,
      "metadata": {
        "id": "Vp9KgEGRc1rR"
      },
      "outputs": [],
      "source": [
        "import matplotlib.pyplot as plt\n",
        "import tensorflow as tf\n",
        "import numpy as np\n",
        "import os\n",
        "from tensorflow.keras.preprocessing.image import load_img\n",
        "from tensorflow.keras.preprocessing.image import img_to_array\n",
        "from tensorflow.keras.preprocessing.image import ImageDataGenerator\n",
        "from tensorflow.keras import optimizers, losses\n",
        "from tensorflow.keras.optimizers import RMSprop"
      ]
    },
    {
      "cell_type": "code",
      "source": [
        "base_dir = \"./data/\"\n",
        "happy_dir = os.path.join(base_dir, \"happy/\")\n",
        "sad_dir = os.path.join(base_dir, \"sad/\")\n",
        "\n",
        "print(\"Sample happy image:\")\n",
        "plt.imshow(load_img(f\"{os.path.join(happy_dir, os.listdir(happy_dir)[0])}\"))\n",
        "plt.show()\n",
        "\n",
        "print(\"\\nSample sad image:\")\n",
        "plt.imshow(load_img(f\"{os.path.join(sad_dir, os.listdir(sad_dir)[0])}\"))\n",
        "plt.show()"
      ],
      "metadata": {
        "id": "U399l-Ail6xX"
      },
      "execution_count": null,
      "outputs": []
    },
    {
      "cell_type": "code",
      "source": [
        "sample_image  = load_img(f\"{os.path.join(happy_dir, os.listdir(happy_dir)[0])}\")\n",
        "\n",
        "sample_array = img_to_array(sample_image)\n",
        "\n",
        "print(f\"Each image has shape: {sample_array.shape}\")\n",
        "print(f\"The maximum pixel value used is: {np.max(sample_array)}\")"
      ],
      "metadata": {
        "id": "dwk0u6NrmXqw"
      },
      "execution_count": null,
      "outputs": []
    },
    {
      "cell_type": "code",
      "source": [
        "class myCallback(tf.keras.callbacks.Callback):\n",
        "    def on_epoch_end(self, epoch, logs={}):\n",
        "        if logs.get('accuracy') > 0.999:\n",
        "            print(\"\\nReached 99.9% accuracy so cancelling training!\")\n",
        "            self.model.stop_training = True\n",
        "            \n",
        "callbacks = myCallback()"
      ],
      "metadata": {
        "id": "hjWwPmMnmcPg"
      },
      "execution_count": null,
      "outputs": []
    },
    {
      "cell_type": "code",
      "source": [
        "def image_generator():\n",
        "    train_datagen = ImageDataGenerator(rescale=1/255)\n",
        "\n",
        "    train_generator = train_datagen.flow_from_directory(directory=\"./data/\",\n",
        "                                                        target_size=(150, 150),\n",
        "                                                        batch_size=10,\n",
        "                                                        class_mode='binary')\n",
        "\n",
        "    return train_generator"
      ],
      "metadata": {
        "id": "_BlpvrgmmdwH"
      },
      "execution_count": null,
      "outputs": []
    },
    {
      "cell_type": "code",
      "source": [
        "gen = image_generator()"
      ],
      "metadata": {
        "id": "oPKO80_0mkSn"
      },
      "execution_count": null,
      "outputs": []
    },
    {
      "cell_type": "code",
      "source": [
        "def train_happy_sad_model(train_generator):\n",
        "    callbacks = myCallback()\n",
        "\n",
        "    model = tf.keras.models.Sequential([\n",
        "        tf.keras.layers.Conv2D(16, (3,3), activation='relu', input_shape=(150, 150, 3)),\n",
        "        tf.keras.layers.MaxPooling2D(2, 2),\n",
        "\n",
        "        tf.keras.layers.Conv2D(32, (3,3), activation='relu'),\n",
        "        tf.keras.layers.MaxPooling2D(2,2),\n",
        "\n",
        "        tf.keras.layers.Conv2D(64, (3,3), activation='relu'),\n",
        "        tf.keras.layers.MaxPooling2D(2,2),\n",
        "\n",
        "        tf.keras.layers.Flatten(),\n",
        "        tf.keras.layers.Dense(512, activation='relu'),\n",
        "        tf.keras.layers.Dense(1, activation='sigmoid')\n",
        "    ])\n",
        "\n",
        "    model.compile(loss='binary_crossentropy',\n",
        "                  optimizer=RMSprop(learning_rate=0.001),\n",
        "                  metrics=['accuracy']) \n",
        "\n",
        "    history = model.fit(x=train_generator,\n",
        "                        epochs=20,\n",
        "                        callbacks=[callbacks]\n",
        "                       ) \n",
        "\n",
        "    return history"
      ],
      "metadata": {
        "id": "Rrib1Mozml3H"
      },
      "execution_count": null,
      "outputs": []
    },
    {
      "cell_type": "code",
      "source": [
        "print(f\"Your model reached the desired accuracy after {len(hist.epoch)} epochs\")"
      ],
      "metadata": {
        "id": "RyLvxNXGmzTX"
      },
      "execution_count": null,
      "outputs": []
    },
    {
      "cell_type": "code",
      "source": [
        "if not \"accuracy\" in hist.model.metrics_names:\n",
        "    print(\"Use 'accuracy' as metric when compiling your model.\")\n",
        "else:\n",
        "    print(\"The metric was correctly defined.\")"
      ],
      "metadata": {
        "id": "smDDMrnSm1yY"
      },
      "execution_count": null,
      "outputs": []
    }
  ]
}